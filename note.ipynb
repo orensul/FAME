{
 "metadata": {
  "language_info": {
   "codemirror_mode": {
    "name": "ipython",
    "version": 3
   },
   "file_extension": ".py",
   "mimetype": "text/x-python",
   "name": "python",
   "nbconvert_exporter": "python",
   "pygments_lexer": "ipython3",
   "version": "3.8.5"
  },
  "orig_nbformat": 2,
  "kernelspec": {
   "name": "python385jvsc74a57bd0ccb2ecddb01d917bafb27cb8f715cf501f0f933995de32a9032a38c3bfd0aab8",
   "display_name": "Python 3.8.5 64-bit ('base': conda)"
  }
 },
 "nbformat": 4,
 "nbformat_minor": 2,
 "cells": [
  {
   "cell_type": "code",
   "execution_count": 1,
   "metadata": {},
   "outputs": [],
   "source": [
    "import time\n",
    "\n",
    "from click import secho\n",
    "\n",
    "import main"
   ]
  },
  {
   "cell_type": "code",
   "execution_count": 2,
   "metadata": {},
   "outputs": [
    {
     "output_type": "stream",
     "name": "stdout",
     "text": [
      "\u001b[34m[INFO] collect nodes information from Quasimodo\u001b[0m\n",
      "100%|██████████| 4/4 [00:02<00:00,  1.54it/s]\u001b[34m[INFO] collect information on question 'why do'\u001b[0m\n",
      "\n",
      "100%|██████████| 12/12 [00:08<00:00,  1.39it/s]\u001b[34m[INFO] collect information on question 'how do'\u001b[0m\n",
      "\n",
      "100%|██████████| 12/12 [00:08<00:00,  1.41it/s]\u001b[34m[INFO] collect edges information from Quasimodo\u001b[0m\n",
      "\n",
      "100%|██████████| 12/12 [02:23<00:00, 11.97s/it]\n",
      "\u001b[34m\n",
      "Total running time: \u001b[0m\u001b[34m\u001b[1m165.50987315177917\u001b[0m\n"
     ]
    }
   ],
   "source": [
    "text1 = \"putting a band aid on a wound is like putting a flag in the code\"\n",
    "text2 = \"horses in stables behave like cows in byre\"\n",
    "text3 = \"peanut butter has a strong taste that causes a feeling of suffocation\"\n",
    "text4 = \"electrons revolve around the nucleus as the earth revolve around the sun\"\n",
    "text5 = \"electrons revolve around the nucleus as the stars revolve around the sun\"\n",
    "\n",
    "start = time.time()\n",
    "main.main(text4)\n",
    "secho(f\"\\nTotal running time: \", fg='blue', nl=False)\n",
    "secho(str(time.time() - start), fg='blue', bold=True)"
   ]
  },
  {
   "cell_type": "code",
   "execution_count": null,
   "metadata": {},
   "outputs": [],
   "source": []
  }
 ]
}