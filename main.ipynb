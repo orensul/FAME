{
 "metadata": {
  "language_info": {
   "codemirror_mode": {
    "name": "ipython",
    "version": 3
   },
   "file_extension": ".py",
   "mimetype": "text/x-python",
   "name": "python",
   "nbconvert_exporter": "python",
   "pygments_lexer": "ipython3",
   "version": "3.8.5"
  },
  "orig_nbformat": 2,
  "kernelspec": {
   "name": "python385jvsc74a57bd0ccb2ecddb01d917bafb27cb8f715cf501f0f933995de32a9032a38c3bfd0aab8",
   "display_name": "Python 3.8.5 64-bit ('base': conda)"
  }
 },
 "nbformat": 4,
 "nbformat_minor": 2,
 "cells": [
  {
   "cell_type": "code",
   "execution_count": 17,
   "metadata": {},
   "outputs": [],
   "source": [
    "import time\n",
    "from click import secho"
   ]
  },
  {
   "cell_type": "code",
   "execution_count": 18,
   "metadata": {},
   "outputs": [
    {
     "output_type": "stream",
     "name": "stdout",
     "text": [
      "\u001b[34m[INFO] init Quasimodo data\u001b[0m\n"
     ]
    }
   ],
   "source": [
    "from quasimodo import Quasimodo\n",
    "quasimodo = Quasimodo(path='tsv/quasimodo.tsv')"
   ]
  },
  {
   "cell_type": "code",
   "execution_count": 19,
   "metadata": {},
   "outputs": [
    {
     "output_type": "stream",
     "name": "stdout",
     "text": [
      "\u001b[34m[INFO] collect nodes information\u001b[0m\n",
      "100%|██████████| 3/3 [00:32<00:00, 10.75s/it]\u001b[34m[INFO] collect information on question 'why do'\u001b[0m\n",
      "\n",
      "100%|██████████| 6/6 [00:05<00:00,  1.15it/s]\u001b[34m[INFO] collect information on question 'how do'\u001b[0m\n",
      "\n",
      "100%|██████████| 6/6 [00:06<00:00,  1.13s/it]\u001b[34m[INFO] collect edges information from Quasimodo\u001b[0m\n",
      "\n",
      "100%|██████████| 6/6 [00:52<00:00,  8.81s/it]\n",
      "\u001b[34m\n",
      "Total running time: \u001b[0m\u001b[34m\u001b[1m99.30129218101501\u001b[0m\n"
     ]
    }
   ],
   "source": [
    "import main\n",
    "\n",
    "text1 = \"putting a band aid on a wound is like putting a flag in the code\"\n",
    "text2 = \"horses in stables behave like cows in byre\"\n",
    "text3 = \"peanut butter has a strong taste that causes a feeling of suffocation\"\n",
    "text4 = \"electrons revolve around the nucleus as the earth revolve around the sun\"\n",
    "text5 = \"The nucleus, which is positively charged, and the electrons which are negatively charged, compose the atom\"\n",
    "text6 = \"On earth, the atmosphere protects us from the sun, but not enough so we use sunscreen\"\n",
    "\n",
    "start = time.time()\n",
    "main.main(text5, quasimodo, addition_nouns=[])\n",
    "secho(f\"\\nTotal running time: \", fg='blue', nl=False)\n",
    "secho(str(time.time() - start), fg='blue', bold=True)"
   ]
  },
  {
   "cell_type": "code",
   "execution_count": null,
   "metadata": {},
   "outputs": [],
   "source": []
  }
 ]
}